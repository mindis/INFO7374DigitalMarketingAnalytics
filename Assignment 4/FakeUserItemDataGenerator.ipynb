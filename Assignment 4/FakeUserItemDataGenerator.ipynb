{
 "cells": [
  {
   "cell_type": "code",
   "execution_count": 68,
   "metadata": {},
   "outputs": [],
   "source": [
    "from faker import Faker\n",
    "import numpy as np\n",
    "import pandas as pd \n",
    "\n",
    "fake = Faker()"
   ]
  },
  {
   "cell_type": "code",
   "execution_count": 69,
   "metadata": {},
   "outputs": [],
   "source": [
    "Product = 20    #NoofProduct\n",
    "User = 500       #NoofUser"
   ]
  },
  {
   "cell_type": "code",
   "execution_count": 70,
   "metadata": {},
   "outputs": [],
   "source": [
    "def createBoxId(userNo,productNo):\n",
    "    boxId = []\n",
    "    fboxId = []\n",
    "    for i in range(productNo):\n",
    "        boxId.append(fake.upc_a(upc_ae_mode=False, base=1, number_system_digit=4))   \n",
    "    for i in range(userNo):\n",
    "        fboxId =  boxId + fboxId\n",
    "    return fboxId"
   ]
  },
  {
   "cell_type": "code",
   "execution_count": 71,
   "metadata": {},
   "outputs": [],
   "source": [
    "def createUserId(userno,productNo):\n",
    "    user = []\n",
    "    for i in range(userno):\n",
    "        uId = fake.pyint(min_value=0, max_value=1000, step=1)\n",
    "        for j in range(productNo):\n",
    "                user.append(uId)\n",
    "                \n",
    "    return user"
   ]
  },
  {
   "cell_type": "code",
   "execution_count": 72,
   "metadata": {},
   "outputs": [],
   "source": [
    "def createRating(userNo,productNo):\n",
    "    rating = []\n",
    "    for i in range(userNo*productNo):\n",
    "        rating.append(np.random.randint(1,6))\n",
    "    return rating"
   ]
  },
  {
   "cell_type": "code",
   "execution_count": 102,
   "metadata": {},
   "outputs": [],
   "source": []
  },
  {
   "cell_type": "code",
   "execution_count": 103,
   "metadata": {},
   "outputs": [],
   "source": []
  },
  {
   "cell_type": "code",
   "execution_count": 105,
   "metadata": {},
   "outputs": [],
   "source": []
  },
  {
   "cell_type": "code",
   "execution_count": 73,
   "metadata": {},
   "outputs": [],
   "source": [
    "def BoxName(productNo,userNo):\n",
    "    company = []\n",
    "    for i in range(productNo*userNo):\n",
    "        company.append(fake.company())\n",
    "    return company\n",
    "\n"
   ]
  },
  {
   "cell_type": "code",
   "execution_count": 74,
   "metadata": {
    "scrolled": true
   },
   "outputs": [],
   "source": [
    "def BoxType(productNo):\n",
    "    flavour = [\"Sweet\",\"Salty\",\"Sour\", \"Fruity\",\"GMO\",\"Vegan\",\"Heathy Treats\",\"low sugar\",\"High protein\",\"Natural\"]\n",
    "    boxtype=[]\n",
    "    for i in range(productNo):\n",
    "        boxtype.append(fake.words(nb=3, ext_word_list=flavour, unique=False))\n",
    "    return boxtype"
   ]
  },
  {
   "cell_type": "code",
   "execution_count": 75,
   "metadata": {},
   "outputs": [],
   "source": [
    "def price(productNo):\n",
    "    price = []\n",
    "    for i in range(productNo):\n",
    "        price.append((np.random.randint(5,16)))\n",
    "    return price\n"
   ]
  },
  {
   "cell_type": "code",
   "execution_count": 96,
   "metadata": {},
   "outputs": [],
   "source": [
    "user= createUserId(User,Product)\n",
    "product = createBoxId(User,Product)\n",
    "rating = createRating(User,Product)\n",
    "company = BoxName(User,Product)\n",
    "Price = price(Product)\n",
    "boxType=BoxType(Product)\n"
   ]
  },
  {
   "cell_type": "code",
   "execution_count": 97,
   "metadata": {},
   "outputs": [],
   "source": [
    "# Now, connect all columns into one data set\n",
    "User_Itemdata = pd.DataFrame(list(zip(user, product, rating,company)),\n",
    "                   columns = ['userId', 'Product_Id', 'Ratings','Company Name'])\n"
   ]
  },
  {
   "cell_type": "code",
   "execution_count": 98,
   "metadata": {},
   "outputs": [],
   "source": [
    "Productdata = pd.DataFrame(list(zip(company, product,  rating,Price,boxType)),\n",
    "                   columns = ['Company Name', 'Product_Id','Ratings','Price','BoxType'])\n"
   ]
  },
  {
   "cell_type": "code",
   "execution_count": 99,
   "metadata": {},
   "outputs": [],
   "source": [
    "User_Itemdata.head()\n",
    "User_Itemdata.to_csv('userItem.csv') "
   ]
  },
  {
   "cell_type": "code",
   "execution_count": 100,
   "metadata": {},
   "outputs": [],
   "source": [
    "Productdata.to_csv(\"ProductData.csv\")"
   ]
  },
  {
   "cell_type": "code",
   "execution_count": null,
   "metadata": {},
   "outputs": [],
   "source": []
  }
 ],
 "metadata": {
  "kernelspec": {
   "display_name": "Python 3",
   "language": "python",
   "name": "python3"
  },
  "language_info": {
   "codemirror_mode": {
    "name": "ipython",
    "version": 3
   },
   "file_extension": ".py",
   "mimetype": "text/x-python",
   "name": "python",
   "nbconvert_exporter": "python",
   "pygments_lexer": "ipython3",
   "version": "3.6.6"
  }
 },
 "nbformat": 4,
 "nbformat_minor": 2
}
